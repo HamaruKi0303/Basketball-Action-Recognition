{
 "cells": [
  {
   "cell_type": "code",
   "execution_count": 14,
   "metadata": {
    "id": "myyAEbP_grBn",
    "tags": []
   },
   "outputs": [],
   "source": [
    "#from google.colab import drive\n",
    "#drive.mount('/content/drive')\n",
    "#%cd /content/drive/MyDrive/Prj"
   ]
  },
  {
   "cell_type": "code",
   "execution_count": null,
   "metadata": {
    "id": "4WEM2idNg0gt"
   },
   "outputs": [],
   "source": []
  },
  {
   "cell_type": "code",
   "execution_count": 15,
   "metadata": {
    "id": "ezHK-Nu8mR7X"
   },
   "outputs": [
    {
     "name": "stdout",
     "output_type": "stream",
     "text": [
      "Python 3.7.12\n"
     ]
    }
   ],
   "source": [
    "!python3 -V"
   ]
  },
  {
   "cell_type": "code",
   "execution_count": 16,
   "metadata": {
    "id": "M0V9uiNAmcWr"
   },
   "outputs": [],
   "source": [
    "#!git clone https://github.com/HamaruKi0303/Basketball-Action-Recognition"
   ]
  },
  {
   "cell_type": "code",
   "execution_count": 17,
   "metadata": {
    "id": "rOF1QVyFmgAN"
   },
   "outputs": [],
   "source": [
    "#%cd Basketball-Action-Recognition"
   ]
  },
  {
   "cell_type": "code",
   "execution_count": 18,
   "metadata": {
    "id": "-FEfj2ZqmrvY"
   },
   "outputs": [],
   "source": [
    "#!pip install -r requirements.txt"
   ]
  },
  {
   "cell_type": "code",
   "execution_count": 19,
   "metadata": {
    "id": "1yE8BKHmsVYA"
   },
   "outputs": [
    {
     "name": "stdout",
     "output_type": "stream",
     "text": [
      "Requirement already satisfied: vidaug in /opt/conda/lib/python3.7/site-packages (1.5)\n",
      "\u001b[33mWARNING: Running pip as the 'root' user can result in broken permissions and conflicting behaviour with the system package manager. It is recommended to use a virtual environment instead: https://pip.pypa.io/warnings/venv\u001b[0m\u001b[33m\n",
      "\u001b[0m"
     ]
    }
   ],
   "source": [
    "!pip install vidaug"
   ]
  },
  {
   "cell_type": "code",
   "execution_count": 20,
   "metadata": {
    "id": "JxnxJj4UrdCs"
   },
   "outputs": [],
   "source": [
    "#!wget --load-cookies /tmp/cookies.txt \"https://drive.google.com/uc?export=download&confirm=$(wget --quiet --save-cookies /tmp/cookies.txt --keep-session-cookies --no-check-certificate 'https://drive.google.com/uc?export=download&id=1hLpbLmLFK2-GIvsmpJelGlEx94yQM2Ts' -O- | sed -rn 's/.*confirm=([0-9A-Za-z_]+).*/\\1\\n/p')&id=1hLpbLmLFK2-GIvsmpJelGlEx94yQM2Ts\" -O datasets.zip && rm -rf /tmp/cookies.txt"
   ]
  },
  {
   "cell_type": "code",
   "execution_count": 21,
   "metadata": {
    "id": "b_daTyL-sWCO"
   },
   "outputs": [],
   "source": [
    "#!unzip datasets.zip"
   ]
  },
  {
   "cell_type": "code",
   "execution_count": null,
   "metadata": {
    "id": "wB9p-kg4orl3"
   },
   "outputs": [
    {
     "name": "stdout",
     "output_type": "stream",
     "text": [
      "mkdir: cannot create directory ‘model_checkpoints’: File exists\n",
      "--2023-02-03 13:17:05--  https://download.pytorch.org/models/r2plus1d_18-91a641e6.pth\n",
      "Resolving download.pytorch.org (download.pytorch.org)... 13.249.146.93, 13.249.146.39, 13.249.146.45, ...\n",
      "Connecting to download.pytorch.org (download.pytorch.org)|13.249.146.93|:443... connected.\n",
      "HTTP request sent, awaiting response... 200 OK\n",
      "Length: 126162996 (120M) [binary/octet-stream]\n",
      "Saving to: ‘model_checkpoints/r2plus1d_18-91a641e6.pth.1’\n",
      "\n",
      ".pth.1               42%[=======>            ]  51.12M  9.99MB/s    eta 8s     "
     ]
    }
   ],
   "source": [
    "!mkdir model_checkpoints\n",
    "#!wget https://download.pytorch.org/models/r2plus1d_18-91a641e6.pth -P model_checkpoints"
   ]
  },
  {
   "cell_type": "code",
   "execution_count": null,
   "metadata": {
    "id": "wupG0rW7zlX6"
   },
   "outputs": [],
   "source": [
    "!mkdir -p dataset/augmented-examples/"
   ]
  },
  {
   "cell_type": "code",
   "execution_count": null,
   "metadata": {
    "id": "O2_NbGVxqymV"
   },
   "outputs": [],
   "source": [
    "#!cp model_checkpoints/r2plus1d_18-91a641e6.pth model_checkpoints/r2plus1d_multiclass_19_0.0001.pt"
   ]
  },
  {
   "cell_type": "code",
   "execution_count": null,
   "metadata": {
    "id": "QJCiGtXJwvU8"
   },
   "outputs": [],
   "source": [
    "import json\n",
    "from collections import OrderedDict\n",
    "import pprint"
   ]
  },
  {
   "cell_type": "code",
   "execution_count": null,
   "metadata": {
    "id": "QXniZquas8wj"
   },
   "outputs": [],
   "source": []
  },
  {
   "cell_type": "code",
   "execution_count": null,
   "metadata": {
    "id": "33MUMW_HvtsV"
   },
   "outputs": [],
   "source": [
    "labels_dict = \\\n",
    "{\n",
    "    0 : \"block\",\n",
    "    1 : \"pass\",\n",
    "    2 : \"run\",\n",
    "    3 : \"dribble\",\n",
    "    4 : \"shoot\",\n",
    "    5 : \"ball in hand\",\n",
    "    6 : \"defense\",\n",
    "    7 : \"pick\",\n",
    "    8 : \"no_action\",\n",
    "    9 : \"walk\",\n",
    "    10 : \"discard\"\n",
    "}"
   ]
  },
  {
   "cell_type": "code",
   "execution_count": null,
   "metadata": {
    "id": "6juzHsL3v0GI"
   },
   "outputs": [],
   "source": [
    "labels_dict"
   ]
  },
  {
   "cell_type": "code",
   "execution_count": null,
   "metadata": {
    "id": "1ts9u1XQwmPE"
   },
   "outputs": [],
   "source": [
    "with open('dataset/labels_dict.json', 'w') as f:\n",
    "    json.dump(labels_dict, f, indent=4)"
   ]
  },
  {
   "cell_type": "code",
   "execution_count": null,
   "metadata": {
    "id": "xfy0gvyctpmn"
   },
   "outputs": [],
   "source": [
    "!python3 augment_videos.py"
   ]
  },
  {
   "cell_type": "code",
   "execution_count": null,
   "metadata": {
    "id": "rz1MCGm9yy8i"
   },
   "outputs": [],
   "source": [
    "!ls /content/Basketball-Action-Recognition/dataset/examples"
   ]
  },
  {
   "cell_type": "code",
   "execution_count": null,
   "metadata": {
    "id": "0LRUycDPso-6"
   },
   "outputs": [],
   "source": [
    "!python3 train.py"
   ]
  },
  {
   "cell_type": "code",
   "execution_count": null,
   "metadata": {
    "id": "Ghbm-gP7n9ao"
   },
   "outputs": [],
   "source": [
    "!python3 inference.py"
   ]
  },
  {
   "cell_type": "code",
   "execution_count": null,
   "metadata": {
    "id": "AZVCeIbHpSka"
   },
   "outputs": [],
   "source": []
  }
 ],
 "metadata": {
  "accelerator": "GPU",
  "colab": {
   "provenance": []
  },
  "gpuClass": "standard",
  "kernelspec": {
   "display_name": "Python 3 (ipykernel)",
   "language": "python",
   "name": "python3"
  },
  "language_info": {
   "codemirror_mode": {
    "name": "ipython",
    "version": 3
   },
   "file_extension": ".py",
   "mimetype": "text/x-python",
   "name": "python",
   "nbconvert_exporter": "python",
   "pygments_lexer": "ipython3",
   "version": "3.7.12"
  }
 },
 "nbformat": 4,
 "nbformat_minor": 4
}
