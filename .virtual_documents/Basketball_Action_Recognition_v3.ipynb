#from google.colab import drive
#drive.mount('/content/drive')
#%cd /content/drive/MyDrive/Prj





get_ipython().getoutput("python3 -V")


#!git clone https://github.com/HamaruKi0303/Basketball-Action-Recognition


#%cd Basketball-Action-Recognition


#!pip install -r requirements.txt


get_ipython().getoutput("pip install vidaug")


#!wget --load-cookies /tmp/cookies.txt "https://drive.google.com/uc?export=download&confirm=$(wget --quiet --save-cookies /tmp/cookies.txt --keep-session-cookies --no-check-certificate 'https://drive.google.com/uc?export=download&id=1hLpbLmLFK2-GIvsmpJelGlEx94yQM2Ts' -O- | sed -rn 's/.*confirm=([0-9A-Za-z_]+).*/\1\n/p')&id=1hLpbLmLFK2-GIvsmpJelGlEx94yQM2Ts" -O datasets.zip && rm -rf /tmp/cookies.txt


#!unzip datasets.zip


get_ipython().getoutput("mkdir model_checkpoints")
#!wget https://download.pytorch.org/models/r2plus1d_18-91a641e6.pth -P model_checkpoints


get_ipython().getoutput("mkdir -p dataset/augmented-examples/")


#!cp model_checkpoints/r2plus1d_18-91a641e6.pth model_checkpoints/r2plus1d_multiclass_19_0.0001.pt


import json
from collections import OrderedDict
import pprint





labels_dict = \
{
    0 : "block",
    1 : "pass",
    2 : "run",
    3 : "dribble",
    4 : "shoot",
    5 : "ball in hand",
    6 : "defense",
    7 : "pick",
    8 : "no_action",
    9 : "walk",
    10 : "discard"
}


labels_dict


with open('dataset/labels_dict.json', 'w') as f:
    json.dump(labels_dict, f, indent=4)


get_ipython().getoutput("python3 augment_videos.py")


get_ipython().getoutput("ls /content/Basketball-Action-Recognition/dataset/examples")


get_ipython().getoutput("python3 train.py")


get_ipython().getoutput("python3 inference.py")



